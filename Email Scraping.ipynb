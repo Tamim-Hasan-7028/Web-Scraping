{
 "cells": [
  {
   "cell_type": "code",
   "execution_count": 1,
   "id": "21def5a3-bf78-44ee-bc90-f158477f6fde",
   "metadata": {},
   "outputs": [],
   "source": [
    "import re\n",
    "from selenium import webdriver\n",
    "from selenium.webdriver.common.by import By\n",
    "import time"
   ]
  },
  {
   "cell_type": "code",
   "execution_count": 2,
   "id": "83f92807-2097-4859-b31b-43896613bf0e",
   "metadata": {},
   "outputs": [],
   "source": [
    "# text = \"\"\"\n",
    "# This is Gadgetpy. Phone no is 01832863958. Emails are gadgetpy@gmail.com, info@gadgetpy.com. \n",
    "# It is connected with ABC. Emails are info@abc.com.bd, abc@au.ac.bd.\n",
    "# \"\"\"\n",
    "\n",
    "# # Regex pattern to match email addresses\n",
    "# pattern = r'[a-z0-9.]+@[a-z0-9.]+\\.[a-z]{2,}'\n",
    "\n",
    "# # Extracting all email addresses\n",
    "# emails = re.findall(pattern, text)\n",
    "\n",
    "# # Printing the extracted emails\n",
    "# print(\"Extracted emails:\", emails)"
   ]
  },
  {
   "cell_type": "code",
   "execution_count": 3,
   "id": "ccf3c007-7402-4f9f-8a1b-8b48ceae972b",
   "metadata": {},
   "outputs": [
    {
     "name": "stdout",
     "output_type": "stream",
     "text": [
      "info@adzeye.com\n",
      "reachus@adzeye.com\n"
     ]
    }
   ],
   "source": [
    "driver = webdriver.Chrome()\n",
    "driver.get('https://adzeye.com/contact/')\n",
    "time.sleep(10)\n",
    "\n",
    "# Initialize a set to store unique emails\n",
    "emails = set()\n",
    "\n",
    "# extract body xpath\n",
    "page_text = driver.find_element(By.TAG_NAME, 'body').text\n",
    "\n",
    "# regex for email\n",
    "email_regex = r'[a-z0-9.]+@[a-zA-Z0-9.]+\\.[a-z]{2,}'\n",
    "\n",
    "# re.findall()\n",
    "found_emails = re.findall(email_regex, page_text)\n",
    "\n",
    "emails.update(found_emails)\n",
    "\n",
    "for email in emails:\n",
    "    print(email)\n",
    "\n",
    "# Close the WebDriver\n",
    "driver.quit()"
   ]
  },
  {
   "cell_type": "code",
   "execution_count": null,
   "id": "c1ccb296-d291-426e-b28b-7d918c377303",
   "metadata": {},
   "outputs": [],
   "source": []
  }
 ],
 "metadata": {
  "kernelspec": {
   "display_name": "Python 3 (ipykernel)",
   "language": "python",
   "name": "python3"
  },
  "language_info": {
   "codemirror_mode": {
    "name": "ipython",
    "version": 3
   },
   "file_extension": ".py",
   "mimetype": "text/x-python",
   "name": "python",
   "nbconvert_exporter": "python",
   "pygments_lexer": "ipython3",
   "version": "3.12.4"
  }
 },
 "nbformat": 4,
 "nbformat_minor": 5
}
