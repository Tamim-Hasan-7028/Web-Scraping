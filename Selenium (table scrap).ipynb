{
 "cells": [
  {
   "cell_type": "code",
   "execution_count": 4,
   "id": "d93fb4c9-3dd5-4212-96ac-68f2f479d356",
   "metadata": {},
   "outputs": [],
   "source": [
    "#importing labraries\n",
    "from selenium import webdriver\n",
    "from selenium.webdriver.support.ui import Select\n",
    "from selenium.webdriver.common.by import By\n",
    "import time\n",
    "import pandas as pd"
   ]
  },
  {
   "cell_type": "code",
   "execution_count": 5,
   "id": "8d79915d-653b-45e5-a0b2-0415defd6dbf",
   "metadata": {},
   "outputs": [
    {
     "name": "stdout",
     "output_type": "stream",
     "text": [
      "           Date        Home  Score         Away\n",
      "0    14-08-2022     Almeria  1 - 2  Real Madrid\n",
      "1    22-08-2022       Elche  1 - 1      Almeria\n",
      "2    27-08-2022     Almeria  2 - 1      Sevilla\n",
      "3    05-09-2022  Valladolid  1 - 0      Almeria\n",
      "4    12-09-2022     Almeria  0 - 1      Osasuna\n",
      "..          ...         ...    ...          ...\n",
      "755  13-05-2023  Villarreal  5 - 1   Ath Bilbao\n",
      "756  20-05-2023      Girona  1 - 2   Villarreal\n",
      "757  24-05-2023  Villarreal  2 - 0        Cadiz\n",
      "758  28-05-2023   Vallecano  2 - 1   Villarreal\n",
      "759  04-06-2023  Villarreal  2 - 2   Ath Madrid\n",
      "\n",
      "[760 rows x 4 columns]\n"
     ]
    }
   ],
   "source": [
    "#entering into website\n",
    "driver = webdriver.Chrome()\n",
    "url = 'https://www.adamchoi.co.uk/teamgoals/detailed'\n",
    "driver.get(url)\n",
    "time.sleep(3)\n",
    "\n",
    "#select a button\n",
    "all_matches_button = driver.find_element(By.XPATH,'//label[@analytics-event=\"All matches\"]')\n",
    "all_matches_button.click()\n",
    "time.sleep(5)\n",
    "\n",
    "#selecting dropdown\n",
    "box = driver.find_element(By.XPATH,'//div[@class=\"panel-body\"]')\n",
    "\n",
    "dropdown1 = Select(box.find_element(By.XPATH,'//select[@id=\"country\"]'))\n",
    "dropdown1.select_by_visible_text('Spain')\n",
    "\n",
    "dropdown2 = Select(box.find_element(By.XPATH,'//select[@id=\"league\"]'))\n",
    "dropdown2.select_by_visible_text('La Liga')\n",
    "\n",
    "dropdown3 = Select(box.find_element(By.XPATH,'//select[@id=\"season\"]'))\n",
    "dropdown3.select_by_visible_text('22/23')\n",
    "\n",
    "time.sleep(3)\n",
    "\n",
    "#extarcting data from table\n",
    "matches = driver.find_elements(By.XPATH,'//tr')\n",
    "\n",
    "Date=[]\n",
    "Home=[]\n",
    "Score=[]\n",
    "Away=[]\n",
    "\n",
    "for i in matches:\n",
    "    Date.append(i.find_element(By.XPATH,'./td[1]').text)\n",
    "    Home.append(i.find_element(By.XPATH,'./td[2]').text)\n",
    "    Score.append(i.find_element(By.XPATH,'./td[3]').text)\n",
    "    Away.append(i.find_element(By.XPATH,'./td[4]').text)\n",
    "driver.quit()\n",
    "\n",
    "#saving as csv\n",
    "df=pd.DataFrame({'Date':Date,'Home':Home,'Score':Score,'Away':Away})\n",
    "df.to_csv('‪Football.csv',index=False)\n",
    "print(df)"
   ]
  }
 ],
 "metadata": {
  "kernelspec": {
   "display_name": "Python 3 (ipykernel)",
   "language": "python",
   "name": "python3"
  },
  "language_info": {
   "codemirror_mode": {
    "name": "ipython",
    "version": 3
   },
   "file_extension": ".py",
   "mimetype": "text/x-python",
   "name": "python",
   "nbconvert_exporter": "python",
   "pygments_lexer": "ipython3",
   "version": "3.12.4"
  }
 },
 "nbformat": 4,
 "nbformat_minor": 5
}
